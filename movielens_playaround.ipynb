{
 "cells": [
  {
   "cell_type": "markdown",
   "metadata": {},
   "source": [
    "<h5>Movilens Database</h5>\n",
    "Database 100k\n",
    "http://grouplens.org/datasets/movielens/\n",
    "\n"
   ]
  },
  {
   "cell_type": "code",
   "execution_count": 5,
   "metadata": {
    "collapsed": false,
    "scrolled": true
   },
   "outputs": [
    {
     "data": {
      "application/javascript": [
       "IPython.notebook.set_autosave_interval(150000)"
      ]
     },
     "metadata": {},
     "output_type": "display_data"
    },
    {
     "name": "stdout",
     "output_type": "stream",
     "text": [
      "Autosaving every 150 seconds\n",
      "La BD has 100000 ratings\n",
      "La BD has  943  users\n",
      "La BD has  1682  movies\n",
      "   user_id         title  movie_id  rating release_date sex  age\n",
      "0      196  Kolya (1996)       242       3  24-Jan-1997   M   49\n",
      "1      305  Kolya (1996)       242       5  24-Jan-1997   M   23\n",
      "2        6  Kolya (1996)       242       4  24-Jan-1997   M   42\n",
      "3      234  Kolya (1996)       242       4  24-Jan-1997   M   60\n",
      "4       63  Kolya (1996)       242       3  24-Jan-1997   M   31\n"
     ]
    }
   ],
   "source": [
    "%autosave 150\n",
    "%matplotlib inline\n",
    "import pandas as pd\n",
    "import numpy as np\n",
    "import math\n",
    "import matplotlib.pylab as plt\n",
    "\n",
    "# Load Data set\n",
    "u_cols = ['user_id', 'age', 'sex', 'occupation', 'zip_code']\n",
    "users = pd.read_csv('C:\\Users\\clewis\\Desktop\\Data Science\\ml-100k\\u.user', sep='|', names=u_cols)\n",
    "\n",
    "r_cols = ['user_id', 'movie_id', 'rating', 'unix_timestamp']\n",
    "ratings = pd.read_csv('C:\\Users\\clewis\\Desktop\\Data Science\\ml-100k\\u.data', sep='\\t', names=r_cols)\n",
    "\n",
    "#load the first three columns of the file with usecols\n",
    "m_cols = ['movie_id', 'title', 'release_date']\n",
    "movies = pd.read_csv('C:\\Users\\clewis\\Desktop\\Data Science\\ml-100k\\u.item', sep='|', names=m_cols, usecols=range(3))\n",
    "\n",
    "# Construct dataframe\n",
    "data = pd.merge(pd.merge(ratings, users), movies)\n",
    "data = data[['user_id','title', 'movie_id','rating','release_date','sex','age']]\n",
    "\n",
    "\n",
    "print \"La BD has \"+ str(data.shape[0]) +\" ratings\"\n",
    "print \"La BD has \", data.user_id.nunique(),\" users\"\n",
    "print \"La BD has \", data.movie_id.nunique(), \" movies\"\n",
    "print data.head()\n"
   ]
  },
  {
   "cell_type": "code",
   "execution_count": 6,
   "metadata": {
    "collapsed": false
   },
   "outputs": [
    {
     "name": "stdout",
     "output_type": "stream",
     "text": [
      "(79619, 8)\n",
      "(20381, 8)\n",
      "Int64Index([], dtype='int64')\n",
      "Training data_set has 79619 ratings\n",
      "Test data set has 20381 ratings\n",
      "La BD has  1682  movies\n"
     ]
    }
   ],
   "source": [
    "# Dividing data into two sets: training and test\n",
    "\n",
    "def assign_to_set(df):\n",
    "    sampled_ids = np.random.choice(df.index,\n",
    "                                   size=np.int64(np.ceil(df.index.size * 0.2)),\n",
    "                                   replace=False)\n",
    "    df.ix[sampled_ids, 'for_testing'] = True\n",
    "    return df\n",
    "\n",
    "data['for_testing'] = False\n",
    "grouped = data.groupby('user_id', group_keys=False).apply(assign_to_set)\n",
    "data_train = data[grouped.for_testing == False]\n",
    "data_test = data[grouped.for_testing == True]\n",
    "print data_train.shape\n",
    "print data_test.shape\n",
    "print data_train.index & data_test.index\n",
    "\n",
    "print \"Training data_set has \"+ str(data_train.shape[0]) +\" ratings\"\n",
    "print \"Test data set has \"+ str(data_test.shape[0]) +\" ratings\"\n",
    "print \"La BD has \", data.movie_id.nunique(), \" movies\"\n"
   ]
  },
  {
   "cell_type": "markdown",
   "metadata": {},
   "source": [
    "##### Which are the 10 most rated movies?"
   ]
  },
  {
   "cell_type": "code",
   "execution_count": 7,
   "metadata": {
    "collapsed": false
   },
   "outputs": [
    {
     "data": {
      "text/plain": [
       "title\n",
       "Star Wars (1977)                 451\n",
       "Fargo (1996)                     414\n",
       "Contact (1997)                   408\n",
       "Return of the Jedi (1983)        403\n",
       "English Patient, The (1996)      386\n",
       "Scream (1996)                    384\n",
       "Liar Liar (1997)                 375\n",
       "Toy Story (1995)                 368\n",
       "Independence Day (ID4) (1996)    347\n",
       "Air Force One (1997)             346\n",
       "dtype: int64"
      ]
     },
     "execution_count": 7,
     "metadata": {},
     "output_type": "execute_result"
    }
   ],
   "source": [
    "data_train.groupby('title').size().sort_values(ascending=False).head(10)"
   ]
  },
  {
   "cell_type": "markdown",
   "metadata": {},
   "source": [
    "##### Which are the 10 movies with the highest score"
   ]
  },
  {
   "cell_type": "code",
   "execution_count": 8,
   "metadata": {
    "collapsed": false
   },
   "outputs": [
    {
     "data": {
      "text/plain": [
       "title\n",
       "Aiqing wansui (1994)                                 5.0\n",
       "Little City (1998)                                   5.0\n",
       "Someone Else's America (1995)                        5.0\n",
       "Star Kid (1997)                                      5.0\n",
       "Nico Icon (1995)                                     5.0\n",
       "Entertaining Angels: The Dorothy Day Story (1996)    5.0\n",
       "Prefontaine (1997)                                   5.0\n",
       "Saint of Fort Washington, The (1993)                 5.0\n",
       "Santa with Muscles (1996)                            5.0\n",
       "Visitors, The (Visiteurs, Les) (1993)                5.0\n",
       "Name: rating, dtype: float64"
      ]
     },
     "execution_count": 8,
     "metadata": {},
     "output_type": "execute_result"
    }
   ],
   "source": [
    "data_train.groupby('title').rating.mean().sort_values(ascending=False).head(10)"
   ]
  },
  {
   "cell_type": "code",
   "execution_count": 9,
   "metadata": {
    "collapsed": false
   },
   "outputs": [
    {
     "data": {
      "text/plain": [
       "title\n",
       "Visitors, The (Visiteurs, Les) (1993)                5.0\n",
       "Santa with Muscles (1996)                            5.0\n",
       "Saint of Fort Washington, The (1993)                 5.0\n",
       "Prefontaine (1997)                                   5.0\n",
       "Entertaining Angels: The Dorothy Day Story (1996)    5.0\n",
       "Nico Icon (1995)                                     5.0\n",
       "Star Kid (1997)                                      5.0\n",
       "Someone Else's America (1995)                        5.0\n",
       "Little City (1998)                                   5.0\n",
       "Aiqing wansui (1994)                                 5.0\n",
       "Name: rating, dtype: float64"
      ]
     },
     "execution_count": 9,
     "metadata": {},
     "output_type": "execute_result"
    }
   ],
   "source": [
    "data_train.groupby('title').rating.mean().sort_values().tail(10)"
   ]
  },
  {
   "cell_type": "markdown",
   "metadata": {},
   "source": [
    "##### Top movies rated more than 10 times"
   ]
  },
  {
   "cell_type": "code",
   "execution_count": 10,
   "metadata": {
    "collapsed": false
   },
   "outputs": [
    {
     "data": {
      "text/plain": [
       "title\n",
       "Casablanca (1942)                                         4.494792\n",
       "Schindler's List (1993)                                   4.476190\n",
       "Wrong Trousers, The (1993)                                4.469388\n",
       "Wallace & Gromit: The Best of Aardman Animation (1996)    4.454545\n",
       "Shawshank Redemption, The (1994)                          4.449074\n",
       "Name: rating, dtype: float64"
      ]
     },
     "execution_count": 10,
     "metadata": {},
     "output_type": "execute_result"
    }
   ],
   "source": [
    "size = data_train.groupby('title').size()\n",
    "mean_score = data_train.groupby('title').rating.mean()\n",
    "mean_score[size>10].sort_values(ascending=False).head()"
   ]
  },
  {
   "cell_type": "markdown",
   "metadata": {},
   "source": [
    "##### Distibution of rated movies per user"
   ]
  },
  {
   "cell_type": "code",
   "execution_count": 11,
   "metadata": {
    "collapsed": false
   },
   "outputs": [
    {
     "data": {
      "text/plain": [
       "<matplotlib.axes._subplots.AxesSubplot at 0x9f33860>"
      ]
     },
     "execution_count": 11,
     "metadata": {},
     "output_type": "execute_result"
    },
    {
     "data": {
      "image/png": "[encoded data removed]",
      "text/plain": [
       "<matplotlib.figure.Figure at 0x258f400>"
      ]
     },
     "metadata": {},
     "output_type": "display_data"
    }
   ],
   "source": [
    "rated_movies = data_train.groupby('user_id').size().sort_values(ascending=False)\n",
    "rated_movies.hist(bins=100)\n"
   ]
  },
  {
   "cell_type": "markdown",
   "metadata": {},
   "source": [
    "##### Mean movie scores by year"
   ]
  },
  {
   "cell_type": "code",
   "execution_count": 12,
   "metadata": {
    "collapsed": false
   },
   "outputs": [
    {
     "name": "stderr",
     "output_type": "stream",
     "text": [
      "C:\\Users\\clewis\\AppData\\Local\\Continuum\\Anaconda2\\lib\\site-packages\\pandas\\core\\indexing.py:288: SettingWithCopyWarning: \n",
      "A value is trying to be set on a copy of a slice from a DataFrame.\n",
      "Try using .loc[row_indexer,col_indexer] = value instead\n",
      "\n",
      "See the caveats in the documentation: http://pandas.pydata.org/pandas-docs/stable/indexing.html#indexing-view-versus-copy\n",
      "  self.obj[key] = _infer_fill_value(value)\n",
      "C:\\Users\\clewis\\AppData\\Local\\Continuum\\Anaconda2\\lib\\site-packages\\pandas\\core\\indexing.py:465: SettingWithCopyWarning: \n",
      "A value is trying to be set on a copy of a slice from a DataFrame.\n",
      "Try using .loc[row_indexer,col_indexer] = value instead\n",
      "\n",
      "See the caveats in the documentation: http://pandas.pydata.org/pandas-docs/stable/indexing.html#indexing-view-versus-copy\n",
      "  self.obj[item] = s\n"
     ]
    },
    {
     "data": {
      "text/plain": [
       "(2.0, 4.4210526315789478)"
      ]
     },
     "execution_count": 12,
     "metadata": {},
     "output_type": "execute_result"
    },
    {
     "data": {
      "image/png": "[encoded data removed]",
      "text/plain": [
       "<matplotlib.figure.Figure at 0xb426358>"
      ]
     },
     "metadata": {},
     "output_type": "display_data"
    }
   ],
   "source": [
    "from math import isnan\n",
    "data_train.loc[:,'release_year'] = data_train['release_date'].apply(lambda x: int(str(x)[-4:]) if isnan(float(str(x)[-4:]))==False else 2010)\n",
    "\n",
    "rank_per_year = data_train.groupby('release_year')['rating'].mean()\n",
    "plt.bar(rank_per_year.keys(), rank_per_year, facecolor='#9999ff', edgecolor='white')\n",
    "plt.ylabel(\"Mean Score\")\n",
    "plt.ylim((min(rank_per_year),max(rank_per_year)))"
   ]
  },
  {
   "cell_type": "markdown",
   "metadata": {},
   "source": [
    "##### Which movies are most controversial amongst different ages?"
   ]
  },
  {
   "cell_type": "code",
   "execution_count": 13,
   "metadata": {
    "collapsed": false
   },
   "outputs": [
    {
     "data": {
      "image/png": "[encoded data removed]",
      "text/plain": [
       "<matplotlib.figure.Figure at 0xa7c6eb8>"
      ]
     },
     "metadata": {},
     "output_type": "display_data"
    },
    {
     "name": "stdout",
     "output_type": "stream",
     "text": [
      "   movie_id  age age_group\n",
      "0       242   49     40-49\n",
      "1       242   23     20-29\n",
      "2       242   42     40-49\n",
      "3       242   60     60-69\n",
      "5       242   26     20-29\n",
      "          rating          \n",
      "            size      mean\n",
      "age_group                 \n",
      "0-9           34  3.705882\n",
      "10-19       6511  3.496698\n",
      "20-29      31490  3.466656\n",
      "30-39      20465  3.554215\n",
      "40-49      11951  3.600452\n",
      "50-59       6926  3.641785\n",
      "60-69       2087  3.641112\n",
      "70-79        155  3.612903\n"
     ]
    }
   ],
   "source": [
    "users.age.hist(bins=100)\n",
    "plt.title(\"Distribution of users' ages\")\n",
    "plt.ylabel('count of users')\n",
    "plt.xlabel('age')\n",
    "plt.show()\n",
    "\n",
    "labels = ['0-9', '10-19', '20-29', '30-39', '40-49', '50-59', '60-69', '70-79']\n",
    "data_train.loc[:,'age_group'] = pd.cut(data_train.age, range(0, 81, 10), right=False, labels=labels)\n",
    "print data_train[['movie_id','age', 'age_group']].head()\n",
    "\n",
    "print data_train.groupby('age_group').agg({'rating': [np.size, np.mean]})\n"
   ]
  },
  {
   "cell_type": "markdown",
   "metadata": {},
   "source": [
    "<h5>Films that have received at least 250 ratings</h5>"
   ]
  },
  {
   "cell_type": "code",
   "execution_count": 14,
   "metadata": {
    "collapsed": false
   },
   "outputs": [
    {
     "name": "stdout",
     "output_type": "stream",
     "text": [
      "title\n",
      "2001: A Space Odyssey (1968)    259\n",
      "Air Force One (1997)            431\n",
      "Alien (1979)                    291\n",
      "Aliens (1986)                   284\n",
      "Amadeus (1984)                  276\n",
      "dtype: int64\n",
      "Index([u'2001: A Space Odyssey (1968)', u'Air Force One (1997)',\n",
      "       u'Alien (1979)', u'Aliens (1986)', u'Amadeus (1984)'],\n",
      "      dtype='object', name=u'title')\n"
     ]
    }
   ],
   "source": [
    "#Grouping titles by rating\n",
    "ratings_by_title = data.groupby('title').size()\n",
    "print ratings_by_title[ratings_by_title >= 250].head()\n",
    "\n",
    "active_titles = ratings_by_title.index[ratings_by_title >= 250]\n",
    "print active_titles[:5]"
   ]
  },
  {
   "cell_type": "markdown",
   "metadata": {},
   "source": [
    "<h5>Mean ratings for each movie grouped by gender with minimum of 250 ratings. </h5>\n",
    "\n"
   ]
  },
  {
   "cell_type": "code",
   "execution_count": 15,
   "metadata": {
    "collapsed": false
   },
   "outputs": [
    {
     "name": "stdout",
     "output_type": "stream",
     "text": [
      "sex                                  F         M\n",
      "title                                           \n",
      "2001: A Space Odyssey (1968)  3.491228  4.103960\n",
      "Air Force One (1997)          3.690476  3.606557\n",
      "Alien (1979)                  3.660714  4.123404\n",
      "Aliens (1986)                 3.672727  4.013100\n",
      "Amadeus (1984)                4.038961  4.211055\n",
      "Apollo 13 (1995)              4.000000  3.909953\n",
      "Back to the Future (1985)     3.766667  3.857692\n",
      "Birdcage, The (1996)          3.670455  3.346341\n",
      "Blade Runner (1982)           3.979167  4.171806\n",
      "Blues Brothers, The (1980)    3.782609  3.848780\n"
     ]
    }
   ],
   "source": [
    "#Display ratings by gender\n",
    "mean_ratings = data.pivot_table('rating', index='title',columns='sex', aggfunc='mean')\n",
    "mean_ratings = mean_ratings.ix[active_titles]\n",
    "print mean_ratings[:10]\n"
   ]
  },
  {
   "cell_type": "markdown",
   "metadata": {},
   "source": [
    "<h6>Movies more highly rated by women</h6>\n",
    "\n"
   ]
  },
  {
   "cell_type": "code",
   "execution_count": 16,
   "metadata": {
    "collapsed": false
   },
   "outputs": [
    {
     "data": {
      "text/plain": [
       "title\n",
       "Schindler's List (1993)                   4.632911\n",
       "Shawshank Redemption, The (1994)          4.562500\n",
       "Usual Suspects, The (1995)                4.333333\n",
       "Silence of the Lambs, The (1991)          4.320000\n",
       "Titanic (1997)                            4.278846\n",
       "Sense and Sensibility (1995)              4.252632\n",
       "Star Wars (1977)                          4.245033\n",
       "Fugitive, The (1993)                      4.166667\n",
       "One Flew Over the Cuckoo's Nest (1975)    4.150000\n",
       "Godfather, The (1972)                     4.133333\n",
       "Name: F, dtype: float64"
      ]
     },
     "execution_count": 16,
     "metadata": {},
     "output_type": "execute_result"
    }
   ],
   "source": [
    "top_female_ratings = mean_ratings.sort_values(by='F', ascending=False)\n",
    "top_female_ratings[:10].F"
   ]
  },
  {
   "cell_type": "markdown",
   "metadata": {},
   "source": [
    "<h6> Movies are rated with great difference between men and women. Films with great differences and are more highly rated by women and the films more preferred by men. Films with the greatest difference rating between genders</h6>\n",
    "\n"
   ]
  },
  {
   "cell_type": "code",
   "execution_count": 17,
   "metadata": {
    "collapsed": false
   },
   "outputs": [
    {
     "name": "stdout",
     "output_type": "stream",
     "text": [
      "sex                                                  F         M      diff\n",
      "title                                                                     \n",
      "Sense and Sensibility (1995)                  4.252632  3.878613 -0.374019\n",
      "Independence Day (ID4) (1996)                 3.688679  3.356037 -0.332642\n",
      "Birdcage, The (1996)                          3.670455  3.346341 -0.324113\n",
      "Truth About Cats & Dogs, The (1996)           3.690722  3.371429 -0.319293\n",
      "Rock, The (1996)                              3.879121  3.634146 -0.244975\n",
      "Mr. Holland's Opus (1995)                     3.945652  3.701493 -0.244160\n",
      "Schindler's List (1993)                       4.632911  4.406393 -0.226519\n",
      "Broken Arrow (1996)                           3.211538  2.985149 -0.226390\n",
      "Mission: Impossible (1996)                    3.487179  3.263158 -0.224022\n",
      "English Patient, The (1996)                   3.809211  3.586626 -0.222584\n",
      "Star Trek: First Contact (1996)               3.835616  3.616438 -0.219178\n",
      "Raising Arizona (1987)                        4.016949  3.832487 -0.184462\n",
      "Saint, The (1997)                             3.247059  3.077922 -0.169137\n",
      "Willy Wonka and the Chocolate Factory (1971)  3.752688  3.583691 -0.168997\n",
      "Fugitive, The (1993)                          4.166667  4.011364 -0.155303\n",
      "sex                                            F         M      diff\n",
      "title                                                               \n",
      "2001: A Space Odyssey (1968)            3.491228  4.103960  0.612732\n",
      "Terminator, The (1984)                  3.524590  4.037500  0.512910\n",
      "Alien (1979)                            3.660714  4.123404  0.462690\n",
      "Aliens (1986)                           3.672727  4.013100  0.340373\n",
      "Empire Strikes Back, The (1980)         3.978022  4.278986  0.300964\n",
      "Twelve Monkeys (1995)                   3.560976  3.861290  0.300315\n",
      "Monty Python and the Holy Grail (1974)  3.863636  4.120000  0.256364\n",
      "Jaws (1975)                             3.578125  3.833333  0.255208\n",
      "Raiders of the Lost Ark (1981)          4.084211  4.301538  0.217328\n",
      "Terminator 2: Judgment Day (1991)       3.833333  4.045643  0.212310\n",
      "Godfather, The (1972)                   4.133333  4.334416  0.201082\n",
      "Groundhog Day (1993)                    3.611940  3.812207  0.200266\n",
      "Blade Runner (1982)                     3.979167  4.171806  0.192640\n",
      "Fargo (1996)                            4.016000  4.201044  0.185044\n",
      "title\n",
      "Evita (1996)                                    1.234051\n",
      "Leaving Las Vegas (1995)                        1.170368\n",
      "English Patient, The (1996)                     1.169401\n",
      "Pulp Fiction (1994)                             1.150880\n",
      "Saint, The (1997)                               1.141131\n",
      "Independence Day (ID4) (1996)                   1.116584\n",
      "Scream (1996)                                   1.113910\n",
      "Twister (1996)                                  1.106416\n",
      "Liar Liar (1997)                                1.098544\n",
      "Willy Wonka and the Chocolate Factory (1971)    1.095204\n",
      "Name: rating, dtype: float64\n"
     ]
    }
   ],
   "source": [
    "mean_ratings['diff'] = mean_ratings['M'] - mean_ratings['F']\n",
    "#Sort by'diff':  films have more different rating and are more highly valued by women\n",
    "sorted_by_diff = mean_ratings.sort_values(by='diff')\n",
    "print sorted_by_diff[:15]\n",
    "\n",
    "#Switching the order to get the films preferred by men which doesn't liked women\n",
    "print sorted_by_diff[:-15:-1]\n",
    "\n",
    "# Standard deviation of the ratings to find the films that have generated the most discordant ratings\n",
    "\n",
    "# Standard deviation of rating grouped by title\n",
    "rating_std_by_title = data.groupby('title')['rating'].std()\n",
    "# Filter down to active_titles\n",
    "rating_std_by_title = rating_std_by_title.ix[active_titles]\n",
    "print rating_std_by_title.sort_values(ascending=False)[:10]"
   ]
  },
  {
   "cell_type": "markdown",
   "metadata": {},
   "source": [
    "<h6>Average rating given by each user. </h6>\n",
    "\n",
    "\n"
   ]
  },
  {
   "cell_type": "code",
   "execution_count": 18,
   "metadata": {
    "collapsed": false
   },
   "outputs": [
    {
     "data": {
      "text/plain": [
       "user_id\n",
       "1     3.610294\n",
       "2     3.709677\n",
       "3     2.796296\n",
       "4     4.333333\n",
       "5     2.874286\n",
       "6     3.635071\n",
       "7     3.965261\n",
       "8     3.796610\n",
       "9     4.272727\n",
       "10    4.206522\n",
       "11    3.464088\n",
       "12    4.392157\n",
       "13    3.097484\n",
       "14    4.091837\n",
       "15    2.875000\n",
       "Name: rating, dtype: float64"
      ]
     },
     "execution_count": 18,
     "metadata": {},
     "output_type": "execute_result"
    }
   ],
   "source": [
    "mean_rating_by_user = data.groupby('user_id')['rating'].mean()\n",
    "mean_rating_by_user[:15]"
   ]
  },
  {
   "cell_type": "markdown",
   "metadata": {},
   "source": [
    "<h6>Highest rated movie on average</h6>\n",
    "\n"
   ]
  },
  {
   "cell_type": "code",
   "execution_count": 19,
   "metadata": {
    "collapsed": false
   },
   "outputs": [
    {
     "name": "stdout",
     "output_type": "stream",
     "text": [
      "title\n",
      "Marlene Dietrich: Shadow and Light (1996)     5.0\n",
      "Name: rating, dtype: float64\n",
      "title\n",
      "Schindler's List (1993)    4.466443\n",
      "Name: rating, dtype: float64\n"
     ]
    }
   ],
   "source": [
    "print data.groupby('title')['rating'].mean().sort_values(ascending=False)[:1]\n",
    "\n",
    "print data.groupby('title')['rating'].mean().ix[active_titles].sort_values(ascending=False)[:1]\n"
   ]
  },
  {
   "cell_type": "markdown",
   "metadata": {},
   "source": [
    "<h6>Return highest rated movies of user</h6>"
   ]
  },
  {
   "cell_type": "code",
   "execution_count": 20,
   "metadata": {
    "collapsed": false
   },
   "outputs": [
    {
     "name": "stdout",
     "output_type": "stream",
     "text": [
      "Max puntuation of user 2 is: 5\n",
      "32                        Kolya (1996)\n",
      "424             Shall We Dance? (1996)\n",
      "4627             Secrets & Lies (1996)\n",
      "6455          L.A. Confidential (1997)\n",
      "11911                     Fargo (1996)\n",
      "32768            Godfather, The (1972)\n",
      "33462                 Star Wars (1977)\n",
      "55954                   Titanic (1997)\n",
      "58130    Wings of the Dove, The (1997)\n",
      "63360     Sense and Sensibility (1995)\n",
      "71232         Good Will Hunting (1997)\n",
      "78981                      Emma (1996)\n",
      "82001        As Good As It Gets (1997)\n",
      "Name: title, dtype: object\n"
     ]
    }
   ],
   "source": [
    "def top_movies(dataFrame,usr):\n",
    "    max_i = dataFrame[dataFrame.user_id == usr].rating.max() \n",
    "    print \"Max puntuation of user\", usr, \"is:\", max_i\n",
    "    return dataFrame[(dataFrame['user_id'] == usr) & (dataFrame['rating'] == max_i )].title\n",
    "\n",
    "print top_movies(data,2)"
   ]
  },
  {
   "cell_type": "markdown",
   "metadata": {},
   "source": [
    "##### <h5>User Similarity</h5> <h6>Movies in common between users </h6>"
   ]
  },
  {
   "cell_type": "code",
   "execution_count": 21,
   "metadata": {
    "collapsed": false
   },
   "outputs": [
    {
     "name": "stdout",
     "output_type": "stream",
     "text": [
      "\n",
      "Number of common movies 14 \n",
      "\n",
      "                                    title  rating\n",
      "417                Shall We Dance? (1996)       4\n",
      "1306  Truth About Cats & Dogs, The (1996)       5\n",
      "1618                 Birdcage, The (1996)       4\n",
      "6080               Full Monty, The (1997)       5\n",
      "9338                 Jerry Maguire (1996)       2\n",
      "                                    title  rating\n",
      "424                Shall We Dance? (1996)       5\n",
      "1336  Truth About Cats & Dogs, The (1996)       4\n",
      "1648                 Birdcage, The (1996)       4\n",
      "6129               Full Monty, The (1997)       4\n",
      "9381                 Jerry Maguire (1996)       4\n"
     ]
    }
   ],
   "source": [
    "# dataframe with the data from user 1\n",
    "data_user_1 = data_train[data_train.user_id==1]\n",
    "# dataframe with the data from user 2\n",
    "data_user_2 = data_train[data_train.user_id==2]\n",
    "# Compute the set of common movies\n",
    "common_movies = set(data_user_1.movie_id).intersection(data_user_2.movie_id)\n",
    "print \"\\nNumber of common movies\",len(common_movies),'\\n'\n",
    "\n",
    "#Subdataframe with only with the common movies\n",
    "mask = (data_user_1.movie_id.isin(common_movies))\n",
    "data_user_1 = data_user_1[mask]\n",
    "print data_user_1[['title','rating']].head()\n",
    "\n",
    "mask = (data_user_2.movie_id.isin(common_movies))\n",
    "data_user_2 = data_user_2[mask]\n",
    "print data_user_2[['title','rating']].head()\n",
    "\n"
   ]
  },
  {
   "cell_type": "markdown",
   "metadata": {},
   "source": [
    "<h6>Compute the users similarity </h6>"
   ]
  },
  {
   "cell_type": "code",
   "execution_count": 22,
   "metadata": {
    "collapsed": false
   },
   "outputs": [
    {
     "name": "stdout",
     "output_type": "stream",
     "text": [
      "0.0751342883797\n",
      "0.163960780544\n"
     ]
    }
   ],
   "source": [
    "from scipy.stats import pearsonr\n",
    "from scipy.spatial.distance import euclidean\n",
    "\n",
    "# Returns a distance-based similarity score for user1 and user2\n",
    "def SimEuclid(DataFrame,User1,User2,min_common_items=1):\n",
    "    # GET MOVIES OF USER1\n",
    "    movies_user1=DataFrame[DataFrame['user_id'] ==User1 ]\n",
    "    # GET MOVIES OF USER2\n",
    "    movies_user2=DataFrame[DataFrame['user_id'] ==User2 ]\n",
    "    \n",
    "    # FIND SHARED FILMS\n",
    "    rep=pd.merge(movies_user1 ,movies_user2,on='movie_id')    \n",
    "    if len(rep)==0:\n",
    "        return 0\n",
    "    if(len(rep)<min_common_items):\n",
    "        return 0\n",
    "    #return distEuclid(rep['rating_x'],rep['rating_y']) \n",
    "    return 1.0/(1.0+euclidean(rep['rating_x'],rep['rating_y'])) \n",
    "\n",
    "# Returns a pearsonCorrealation-based similarity score for person1 and person2\n",
    "def SimPearson(DataFrame,User1,User2,min_common_items=1):\n",
    "    # GET MOVIES OF USER1\n",
    "    movies_user1=DataFrame[DataFrame['user_id'] ==User1 ]\n",
    "    # GET MOVIES OF USER2\n",
    "    movies_user2=DataFrame[DataFrame['user_id'] ==User2 ]\n",
    "    \n",
    "    # FIND SHARED FILMS\n",
    "    rep=pd.merge(movies_user1 ,movies_user2,on='movie_id',)\n",
    "    if len(rep)==0:\n",
    "        return 0    \n",
    "    if(len(rep)<min_common_items):\n",
    "        return 0    \n",
    "    res=pearsonr(rep['rating_x'],rep['rating_y'])[0]\n",
    "    if(isnan(res)):\n",
    "        return 0\n",
    "    return res\n",
    "\n",
    "print SimPearson(data_train,1,2)\n",
    "print SimEuclid(data_train,1,2)"
   ]
  },
  {
   "cell_type": "code",
   "execution_count": null,
   "metadata": {
    "collapsed": true
   },
   "outputs": [],
   "source": []
  }
 ],
 "metadata": {
  "anaconda-cloud": {},
  "kernelspec": {
   "display_name": "Python [default]",
   "language": "python",
   "name": "python2"
  },
  "language_info": {
   "codemirror_mode": {
    "name": "ipython",
    "version": 2
   },
   "file_extension": ".py",
   "mimetype": "text/x-python",
   "name": "python",
   "nbconvert_exporter": "python",
   "pygments_lexer": "ipython2",
   "version": "2.7.12"
  }
 },
 "nbformat": 4,
 "nbformat_minor": 0
}
